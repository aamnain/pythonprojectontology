{
 "cells": [
  {
   "cell_type": "code",
   "execution_count": 2,
   "id": "3e4b567d",
   "metadata": {},
   "outputs": [
    {
     "data": {
      "application/vnd.jupyter.widget-view+json": {
       "model_id": "afecc1a9eeb54d1ebccb36d660afaec8",
       "version_major": 2,
       "version_minor": 0
      },
      "text/plain": [
       "Dropdown(description='Shape:', options=('Rectangle', 'Square', 'Circle', 'Sector'), value='Rectangle')"
      ]
     },
     "metadata": {},
     "output_type": "display_data"
    },
    {
     "data": {
      "application/vnd.jupyter.widget-view+json": {
       "model_id": "730ff6117bad4a759d82e23bf17380ae",
       "version_major": 2,
       "version_minor": 0
      },
      "text/plain": [
       "FloatText(value=0.0, description='Length:')"
      ]
     },
     "metadata": {},
     "output_type": "display_data"
    },
    {
     "data": {
      "application/vnd.jupyter.widget-view+json": {
       "model_id": "10f542cdc8fb4f82be2c83cf1faa3204",
       "version_major": 2,
       "version_minor": 0
      },
      "text/plain": [
       "FloatText(value=0.0, description='Breadth:')"
      ]
     },
     "metadata": {},
     "output_type": "display_data"
    },
    {
     "data": {
      "application/vnd.jupyter.widget-view+json": {
       "model_id": "509c39c739e14f838f5dd34d1fe1745b",
       "version_major": 2,
       "version_minor": 0
      },
      "text/plain": [
       "FloatText(value=0.0, description='Radius:')"
      ]
     },
     "metadata": {},
     "output_type": "display_data"
    },
    {
     "data": {
      "application/vnd.jupyter.widget-view+json": {
       "model_id": "dbafeff097494089ac118efbbfe6ee64",
       "version_major": 2,
       "version_minor": 0
      },
      "text/plain": [
       "FloatText(value=0.0, description='Angle (degrees):')"
      ]
     },
     "metadata": {},
     "output_type": "display_data"
    },
    {
     "data": {
      "application/vnd.jupyter.widget-view+json": {
       "model_id": "18d8f20039c4426a826cf1e050472efa",
       "version_major": 2,
       "version_minor": 0
      },
      "text/plain": [
       "Button(description='Submit', style=ButtonStyle())"
      ]
     },
     "metadata": {},
     "output_type": "display_data"
    },
    {
     "data": {
      "application/vnd.jupyter.widget-view+json": {
       "model_id": "60af0ebe3b96496aae769681859042a2",
       "version_major": 2,
       "version_minor": 0
      },
      "text/plain": [
       "Output()"
      ]
     },
     "metadata": {},
     "output_type": "display_data"
    }
   ],
   "source": [
    "import rdflib\n",
    "import ipywidgets as widgets\n",
    "from IPython.display import display\n",
    "\n",
    "# Load the ontology file (.owl)\n",
    "ontology_file = r\"C:\\Users\\abdul rehman\\Downloads\\amna_updated.owl\"\n",
    "g = rdflib.Graph()\n",
    "g.parse(ontology_file, format=\"xml\")\n",
    "\n",
    "# Function to calculate area of rectangle\n",
    "def calculate_rectangle_area(length, breadth):\n",
    "    return length * breadth\n",
    "\n",
    "# Function to calculate area of circle\n",
    "def calculate_circle_area(radius):\n",
    "    return 3.14159 * (radius ** 2)\n",
    "\n",
    "# Function to calculate area of sector (part of a circle)\n",
    "def calculate_sector_area(radius, angle):\n",
    "    return (angle / 360) * 3.14159 * (radius ** 2)\n",
    "\n",
    "# Function to calculate area for subclasses (Rectangle, Square, Circle, Sector)\n",
    "def calculate_area(shape, *args):\n",
    "    if shape == \"Rectangle\":\n",
    "        length = float(args[0])\n",
    "        breadth = float(args[1])\n",
    "        return calculate_rectangle_area(length, breadth)\n",
    "    \n",
    "    elif shape == \"Square\":\n",
    "        side = float(args[0])\n",
    "        return calculate_rectangle_area(side, side)\n",
    "    \n",
    "    elif shape == \"Circle\":\n",
    "        radius = float(args[0])\n",
    "        return calculate_circle_area(radius)\n",
    "    \n",
    "    elif shape == \"Sector\":\n",
    "        radius = float(args[0])\n",
    "        angle = float(args[1])\n",
    "        return calculate_sector_area(radius, angle)\n",
    "    \n",
    "    else:\n",
    "        return \"Invalid Shape\"\n",
    "\n",
    "# Define widgets for user input and display\n",
    "shape_selector = widgets.Dropdown(\n",
    "    options=['Rectangle', 'Square', 'Circle', 'Sector'],\n",
    "    description='Shape:',\n",
    ")\n",
    "\n",
    "length_input = widgets.FloatText(\n",
    "    description='Length:',\n",
    "    value=0.0,\n",
    ")\n",
    "\n",
    "breadth_input = widgets.FloatText(\n",
    "    description='Breadth:',\n",
    "    value=0.0,\n",
    ")\n",
    "\n",
    "radius_input = widgets.FloatText(\n",
    "    description='Radius:',\n",
    "    value=0.0,\n",
    ")\n",
    "\n",
    "angle_input = widgets.FloatText(\n",
    "    description='Angle (degrees):',\n",
    "    value=0.0,\n",
    ")\n",
    "\n",
    "result_output = widgets.Output()\n",
    "\n",
    "# Function to display results when \"Submit\" button is clicked\n",
    "def on_submit_button_clicked(b):\n",
    "    with result_output:\n",
    "        shape = shape_selector.value\n",
    "        if shape == \"Rectangle\":\n",
    "            result = calculate_area(shape, length_input.value, breadth_input.value)\n",
    "        elif shape == \"Square\":\n",
    "            result = calculate_area(shape, length_input.value)\n",
    "        elif shape == \"Circle\":\n",
    "            result = calculate_area(shape, radius_input.value)\n",
    "        elif shape == \"Sector\":\n",
    "            result = calculate_area(shape, radius_input.value, angle_input.value)\n",
    "        print(f\"The area of the {shape} is: {result} square units\")\n",
    "\n",
    "# Create a submit button to trigger calculation\n",
    "submit_button = widgets.Button(description=\"Submit\")\n",
    "submit_button.on_click(on_submit_button_clicked)\n",
    "\n",
    "# Display the widgets\n",
    "display(shape_selector, length_input, breadth_input, radius_input, angle_input, submit_button, result_output)\n"
   ]
  },
  {
   "cell_type": "code",
   "execution_count": null,
   "id": "a6466e90",
   "metadata": {},
   "outputs": [],
   "source": []
  }
 ],
 "metadata": {
  "kernelspec": {
   "display_name": "Python 3 (ipykernel)",
   "language": "python",
   "name": "python3"
  },
  "language_info": {
   "codemirror_mode": {
    "name": "ipython",
    "version": 3
   },
   "file_extension": ".py",
   "mimetype": "text/x-python",
   "name": "python",
   "nbconvert_exporter": "python",
   "pygments_lexer": "ipython3",
   "version": "3.9.7"
  }
 },
 "nbformat": 4,
 "nbformat_minor": 5
}
